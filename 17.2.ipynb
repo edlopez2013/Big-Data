{
 "cells": [
  {
   "cell_type": "markdown",
   "id": "07a67e1c-a239-477d-bd2a-5855ef751726",
   "metadata": {},
   "source": [
    "# 17.2 "
   ]
  },
  {
   "cell_type": "code",
   "execution_count": 23,
   "id": "a77bc83b-3ffe-4134-8254-09034a9e1837",
   "metadata": {},
   "outputs": [],
   "source": [
    "import sqlite3\n",
    "\n",
    "# Open the books database\n",
    "connection = sqlite3.connect('books.db')\n",
    "# Create a cursor\n",
    "cursor = connection.cursor()\n",
    "\n",
    "# Excecute a query to select all data from the titles table\n",
    "cursor.execute('SELECT * FROM titles')\n",
    "\n",
    "# Get the metadata from the description attribute\n",
    "description = cursor.description\n",
    "\n",
    "# Get the data from the fetchall method\n",
    "data = cursor.fetchall()\n",
    "\n",
    "# Display the results in a tabular format\n",
    "for row in data:\n",
    "    print(f'{row[0]:<20}{row[1]:<20}{row[2]:<20}')\n",
    "\n",
    "cursor.close()\n",
    "connection.close()"
   ]
  },
  {
   "cell_type": "code",
   "execution_count": null,
   "id": "b6a589b3-1f01-44a8-bd74-fb9ca735253c",
   "metadata": {},
   "outputs": [],
   "source": []
  }
 ],
 "metadata": {
  "kernelspec": {
   "display_name": "Python 3 (ipykernel)",
   "language": "python",
   "name": "python3"
  },
  "language_info": {
   "codemirror_mode": {
    "name": "ipython",
    "version": 3
   },
   "file_extension": ".py",
   "mimetype": "text/x-python",
   "name": "python",
   "nbconvert_exporter": "python",
   "pygments_lexer": "ipython3",
   "version": "3.11.5"
  }
 },
 "nbformat": 4,
 "nbformat_minor": 5
}
